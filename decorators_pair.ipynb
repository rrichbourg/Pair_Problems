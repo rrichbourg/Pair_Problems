{
 "cells": [
  {
   "cell_type": "code",
   "execution_count": 56,
   "metadata": {
    "ExecuteTime": {
     "end_time": "2020-07-31T14:27:45.723326Z",
     "start_time": "2020-07-31T14:27:45.716045Z"
    }
   },
   "outputs": [],
   "source": [
    "def talky(func):\n",
    "    def wrapper(*args, **kwargs):\n",
    "        answer = func(*args, **kwargs)\n",
    "        print(f\"Oh hi! \\nThe result sure is {answer}!\")\n",
    "    return wrapper\n",
    "\n",
    "@talky\n",
    "def square(x):\n",
    "    return x * x"
   ]
  },
  {
   "cell_type": "code",
   "execution_count": 58,
   "metadata": {
    "ExecuteTime": {
     "end_time": "2020-07-31T14:27:49.268006Z",
     "start_time": "2020-07-31T14:27:49.259535Z"
    }
   },
   "outputs": [
    {
     "name": "stdout",
     "output_type": "stream",
     "text": [
      "Oh hi! \n",
      "The result sure is 64!\n"
     ]
    }
   ],
   "source": [
    "square(8)"
   ]
  },
  {
   "cell_type": "code",
   "execution_count": 64,
   "metadata": {
    "ExecuteTime": {
     "end_time": "2020-07-31T14:36:17.863771Z",
     "start_time": "2020-07-31T14:36:17.834535Z"
    }
   },
   "outputs": [],
   "source": [
    "def talky(func):\n",
    "    def wrapper(*args, **kwargs):\n",
    "        answer = func(*args, **kwargs)\n",
    "        print(f\"Oh hi! \\nThe result sure is {answer}!\")\n",
    "    return wrapper\n",
    "\n",
    "@talky\n",
    "def square(x):\n",
    "    return x * x\n",
    "\n",
    "square(8)\n",
    "\n",
    "def talky_with(name):\n",
    "    def decorator(func):\n",
    "        def wrapper(*args, **kwargs):\n",
    "            answer = func(*args, **kwargs)\n",
    "            print(f\"Oh hi! I'm {name}. \\nThe result sure is {answer}!\")\n",
    "        return wrapper\n",
    "    return decorator\n",
    "\n",
    "@talky_with(\"Aaron\")\n",
    "def square(x):\n",
    "    return x*x\n",
    "\n",
    "square(8)"
   ]
  },
  {
   "cell_type": "code",
   "execution_count": 65,
   "metadata": {
    "ExecuteTime": {
     "end_time": "2020-07-31T14:36:27.244438Z",
     "start_time": "2020-07-31T14:36:27.234031Z"
    }
   },
   "outputs": [
    {
     "name": "stdout",
     "output_type": "stream",
     "text": [
      "Oh hi! I'm Aaron. \n",
      "The result sure is 64!\n"
     ]
    }
   ],
   "source": [
    "square(8)"
   ]
  },
  {
   "cell_type": "code",
   "execution_count": null,
   "metadata": {},
   "outputs": [],
   "source": []
  }
 ],
 "metadata": {
  "kernelspec": {
   "display_name": "Python [conda env:metis] *",
   "language": "python",
   "name": "conda-env-metis-py"
  },
  "language_info": {
   "codemirror_mode": {
    "name": "ipython",
    "version": 3
   },
   "file_extension": ".py",
   "mimetype": "text/x-python",
   "name": "python",
   "nbconvert_exporter": "python",
   "pygments_lexer": "ipython3",
   "version": "3.8.3"
  },
  "toc": {
   "base_numbering": 1,
   "nav_menu": {},
   "number_sections": true,
   "sideBar": true,
   "skip_h1_title": false,
   "title_cell": "Table of Contents",
   "title_sidebar": "Contents",
   "toc_cell": false,
   "toc_position": {},
   "toc_section_display": true,
   "toc_window_display": false
  },
  "varInspector": {
   "cols": {
    "lenName": 16,
    "lenType": 16,
    "lenVar": 40
   },
   "kernels_config": {
    "python": {
     "delete_cmd_postfix": "",
     "delete_cmd_prefix": "del ",
     "library": "var_list.py",
     "varRefreshCmd": "print(var_dic_list())"
    },
    "r": {
     "delete_cmd_postfix": ") ",
     "delete_cmd_prefix": "rm(",
     "library": "var_list.r",
     "varRefreshCmd": "cat(var_dic_list()) "
    }
   },
   "types_to_exclude": [
    "module",
    "function",
    "builtin_function_or_method",
    "instance",
    "_Feature"
   ],
   "window_display": false
  }
 },
 "nbformat": 4,
 "nbformat_minor": 4
}
