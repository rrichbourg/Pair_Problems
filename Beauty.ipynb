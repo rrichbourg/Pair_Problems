{
 "cells": [
  {
   "cell_type": "code",
   "execution_count": 53,
   "metadata": {},
   "outputs": [],
   "source": [
    "import re\n",
    "import operator\n",
    "\n",
    "def Beauty(text):\n",
    "\n",
    "    lower_text = text.lower()\n",
    "    cleaned_text = re.sub(\"[^a-z]\", \"\", lower_text)\n",
    "    \n",
    "    my_dict = {}\n",
    "    for char in cleaned_text:\n",
    "        my_dict.update({char:cleaned_text.count(char)})\n",
    "    \n",
    "    sorted_d = dict(sorted(my_dict.items(), key=operator.itemgetter(1),reverse=True))   \n",
    "    \n",
    "    # We could have used collections.Counter().most_common() \n",
    "    # to make a sorted list of tuples (char, count)\n",
    "    \n",
    "    second_dict = sorted_d.copy()\n",
    "    counter = 26\n",
    "    for key, value in second_dict.items():\n",
    "        second_dict[key] = counter\n",
    "        counter -= 1\n",
    "    \n",
    "    total = sum(sorted_d[k]*second_dict[k] for k in sorted_d)\n",
    "    \n",
    "    return total"
   ]
  },
  {
   "cell_type": "code",
   "execution_count": 56,
   "metadata": {},
   "outputs": [
    {
     "data": {
      "text/plain": [
       "177"
      ]
     },
     "execution_count": 56,
     "metadata": {},
     "output_type": "execute_result"
    }
   ],
   "source": [
    "Beauty('ABbbCcc')"
   ]
  },
  {
   "cell_type": "code",
   "execution_count": 55,
   "metadata": {},
   "outputs": [
    {
     "data": {
      "text/plain": [
       "754"
      ]
     },
     "execution_count": 55,
     "metadata": {},
     "output_type": "execute_result"
    }
   ],
   "source": [
    "Beauty('Good luck in the Facebook Hacker Cup this year!')"
   ]
  }
 ],
 "metadata": {
  "kernelspec": {
   "display_name": "Python 3",
   "language": "python",
   "name": "python3"
  },
  "language_info": {
   "codemirror_mode": {
    "name": "ipython",
    "version": 3
   },
   "file_extension": ".py",
   "mimetype": "text/x-python",
   "name": "python",
   "nbconvert_exporter": "python",
   "pygments_lexer": "ipython3",
   "version": "3.7.7"
  }
 },
 "nbformat": 4,
 "nbformat_minor": 4
}
